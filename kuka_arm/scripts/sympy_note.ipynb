{
 "cells": [
  {
   "cell_type": "code",
   "execution_count": 27,
   "metadata": {
    "collapsed": true
   },
   "outputs": [],
   "source": [
    "from sympy import symbols, cos, sin, pi, atan2, sqrt, simplify, pprint\n",
    "from sympy.matrices import Matrix\n",
    "import numpy as np"
   ]
  },
  {
   "cell_type": "code",
   "execution_count": 2,
   "metadata": {
    "collapsed": true
   },
   "outputs": [],
   "source": [
    "### Create symbols for joint variables\n",
    "q1, q2, q3, q4 = symbols('q1:5') # remember slices do not include the end value \n",
    "# unrelated symbols can be defined like this:\n",
    "A, R, O, C = symbols('A R O C')\n",
    "\n",
    "# Conversion Factors\n",
    "rtd = 180./np.pi # radians to degrees\n",
    "dtr = np.pi/180. # degrees to radians\n",
    "\n",
    "R_x = Matrix([[ 1,              0,        0],\n",
    "              [ 0,        cos(q1), -sin(q1)],\n",
    "              [ 0,        sin(q1),  cos(q1)]])\n",
    "\n",
    "R_y = Matrix([[ cos(q2),        0,  sin(q2)],\n",
    "              [       0,        1,        0],\n",
    "              [-sin(q2),        0,  cos(q2)]])\n",
    "\n",
    "R_z = Matrix([[ cos(q3), -sin(q3),        0],\n",
    "              [ sin(q3),  cos(q3),        0],\n",
    "              [ 0,              0,        1]])"
   ]
  },
  {
   "cell_type": "code",
   "execution_count": 3,
   "metadata": {},
   "outputs": [
    {
     "name": "stdout",
     "output_type": "stream",
     "text": [
      "Rotation about the X-axis by 45-degrees\n",
      "Matrix([[1.00000000000000, 0, 0], [0, 0.707106781186548, -0.707106781186547], [0, 0.707106781186547, 0.707106781186548]])\n",
      "Rotation about the y-axis by 45-degrees\n",
      "Matrix([[0.707106781186548, 0, 0.707106781186547], [0, 1.00000000000000, 0], [-0.707106781186547, 0, 0.707106781186548]])\n",
      "Rotation about the Z-axis by 30-degrees\n",
      "Matrix([[0.866025403784439, -0.500000000000000, 0], [0.500000000000000, 0.866025403784439, 0], [0, 0, 1.00000000000000]])\n"
     ]
    }
   ],
   "source": [
    "print(\"Rotation about the X-axis by 45-degrees\")\n",
    "print(R_x.evalf(subs={q1: 45*dtr}))\n",
    "print(\"Rotation about the y-axis by 45-degrees\")\n",
    "print(R_y.evalf(subs={q2: 45*dtr}))\n",
    "print(\"Rotation about the Z-axis by 30-degrees\")\n",
    "print(R_z.evalf(subs={q3: 30*dtr}))"
   ]
  },
  {
   "cell_type": "code",
   "execution_count": 4,
   "metadata": {},
   "outputs": [
    {
     "name": "stdout",
     "output_type": "stream",
     "text": [
      "Matrix([[1, 0, 0], [0, -sin(q1)**2/cos(q1) + 1/cos(q1), sin(q1)], [0, -sin(q1), cos(q1)]]) Matrix([[1, 0, 0], [0, cos(q1), sin(q1)], [0, -sin(q1), cos(q1)]]) Matrix([[1, 0, 0], [0, cos(q1), sin(q1)], [0, -sin(q1), cos(q1)]]) sin(q1)**2 + cos(q1)**2\n",
      "Matrix([[-sin(q2)**2/cos(q2) + 1/cos(q2), 0, -sin(q2)], [0, 1, 0], [sin(q2), 0, cos(q2)]]) Matrix([[cos(q2), 0, -sin(q2)], [0, 1, 0], [sin(q2), 0, cos(q2)]]) Matrix([[cos(q2), 0, -sin(q2)], [0, 1, 0], [sin(q2), 0, cos(q2)]]) sin(q2)**2 + cos(q2)**2\n",
      "Matrix([[-sin(q3)**2/cos(q3) + 1/cos(q3), sin(q3), 0], [-sin(q3), cos(q3), 0], [0, 0, 1]]) Matrix([[cos(q3), sin(q3), 0], [-sin(q3), cos(q3), 0], [0, 0, 1]]) Matrix([[cos(q3), sin(q3), 0], [-sin(q3), cos(q3), 0], [0, 0, 1]]) sin(q3)**2 + cos(q3)**2\n"
     ]
    }
   ],
   "source": [
    "print(R_x.inv(), R_x.transpose(), R_x.T, R_x.det())\n",
    "print(R_y.inv(), R_y.transpose(), R_y.T, R_y.det())\n",
    "print(R_z.inv(), R_z.transpose(), R_z.T, R_z.det())"
   ]
  },
  {
   "cell_type": "code",
   "execution_count": 5,
   "metadata": {},
   "outputs": [
    {
     "name": "stdout",
     "output_type": "stream",
     "text": [
      "Rzyx=  Matrix([\n",
      "[ sin(q1)*sin(q3) + sin(q2)*cos(q1)*cos(q3), cos(q2)*cos(q3), sin(q1)*sin(q2)*cos(q3) - sin(q3)*cos(q1)],\n",
      "[-sin(q1)*cos(q3) + sin(q2)*sin(q3)*cos(q1), sin(q3)*cos(q2), sin(q1)*sin(q2)*sin(q3) + cos(q1)*cos(q3)],\n",
      "[                           cos(q1)*cos(q2),        -sin(q2),                           sin(q1)*cos(q2)]])\n",
      "\n",
      "Ryzy=  Matrix([[sin(q2)*cos(q2)*cos(q3) + sin(q2)*cos(q2), -sin(q2)**2 + cos(q2)**2*cos(q3), -sin(q3)*cos(q2)], [sin(q2)*sin(q3), sin(q3)*cos(q2), cos(q3)], [-sin(q2)**2*cos(q3) + cos(q2)**2, -sin(q2)*cos(q2)*cos(q3) - sin(q2)*cos(q2), sin(q2)*sin(q3)]])\n"
     ]
    }
   ],
   "source": [
    "#Exstrinsic rotation\n",
    "r,p,y = symbols('r p y')\n",
    "\n",
    "Rot_x = Matrix([[1,         0,          0], \n",
    "                [0, cos(r), -sin(r)],\n",
    "                [0, sin(r),  cos(r)]])\n",
    "\n",
    "Rot_y = Matrix([[ cos(p), 0, sin(p)],\n",
    "                        [          0, 1,          0],\n",
    "                        [-sin(p), 0, cos(p)]])\n",
    "\n",
    "Rot_z = Matrix([[cos(y), -sin(y), 0], \n",
    "                [sin(y),  cos(y), 0],\n",
    "                [     0,       0,     1]])\n",
    "R_y_DH_URDF = Rot_y.subs(p, -pi/2)\n",
    "R_z_DH_URDF = Rot_z.subs(y, -pi/2)\n",
    "        \n",
    "print('Rzyx= ',simplify(R_z*R_y*R_x* R_z_DH_URDF * R_y_DH_URDF))\n",
    "print('\\nRyzy= ',R_y*R_z*R_y * R_z_DH_URDF * R_y_DH_URDF)"
   ]
  },
  {
   "cell_type": "code",
   "execution_count": 6,
   "metadata": {},
   "outputs": [
    {
     "name": "stdout",
     "output_type": "stream",
     "text": [
      "Rzyx=  Matrix([[cos(q2)*cos(q3), -sin(q3)*cos(q2), sin(q2)], [sin(q1)*sin(q2)*cos(q3) + sin(q3)*cos(q1), -sin(q1)*sin(q2)*sin(q3) + cos(q1)*cos(q3), -sin(q1)*cos(q2)], [sin(q1)*sin(q3) - sin(q2)*cos(q1)*cos(q3), sin(q1)*cos(q3) + sin(q2)*sin(q3)*cos(q1), cos(q1)*cos(q2)]])\n",
      "\n",
      "Rzyx=  Matrix([[-sin(q2)**2 + cos(q2)**2*cos(q3), -sin(q3)*cos(q2), sin(q2)*cos(q2)*cos(q3) + sin(q2)*cos(q2)], [sin(q3)*cos(q2), cos(q3), sin(q2)*sin(q3)], [-sin(q2)*cos(q2)*cos(q3) - sin(q2)*cos(q2), sin(q2)*sin(q3), -sin(q2)**2*cos(q3) + cos(q2)**2]])\n"
     ]
    }
   ],
   "source": [
    "#Intrinsic rotation\n",
    "print('Rzyx= ',R_x.multiply(R_y.multiply(R_z)))\n",
    "#https://d17h27t6h515a5.cloudfront.net/topher/2017/May/591e1115_image-0/image-0.png\n",
    "print('\\nRzyx= ',R_y.multiply(R_z.multiply(R_y)))\n",
    "#this is for 6dof arm project"
   ]
  },
  {
   "cell_type": "code",
   "execution_count": 7,
   "metadata": {},
   "outputs": [
    {
     "name": "stdout",
     "output_type": "stream",
     "text": [
      "intrinsic R45,90,45=  Matrix([[4.32978028117747e-17, -4.32978028117747e-17, 1.00000000000000], [1.00000000000000, 6.12323399573677e-17, -4.32978028117747e-17], [-6.12323399573677e-17, 1.00000000000000, 4.32978028117747e-17]])\n",
      "Rz,90,x=  Matrix([[cos(q2)*cos(q3), -sin(q3)*cos(q2), 1.00000000000000], [sin(q1)*sin(q2)*cos(q3) + sin(q3)*cos(q1), -sin(q1)*sin(q2)*sin(q3) + cos(q1)*cos(q3), -sin(q1)*cos(q2)], [sin(q1)*sin(q3) - sin(q2)*cos(q1)*cos(q3), sin(q1)*cos(q3) + sin(q2)*sin(q3)*cos(q1), cos(q1)*cos(q2)]])\n"
     ]
    }
   ],
   "source": [
    "#gimbal lock\n",
    "\n",
    "#print('extrinsic R45,90,45= ',R_z.multiply(R_y.multiply(R_x)).evalf(subs = {q1:30*dtr, q2:90*dtr, q3:60*dtr}))\n",
    "\n",
    "#print('Rz,90,x= ',R_z.multiply(R_y.multiply(R_x)).evalf(subs = {q2:90*dtr}))\n",
    "\n",
    "print('intrinsic R45,90,45= ',R_x.multiply(R_y.multiply(R_z)).evalf(subs = {q1:45*dtr, q2:90*dtr, q3:45*dtr}))\n",
    "\n",
    "print('Rz,90,x= ',R_x.multiply(R_y.multiply(R_z)).evalf(subs = {q2:90*dtr}))\n"
   ]
  },
  {
   "cell_type": "code",
   "execution_count": 8,
   "metadata": {},
   "outputs": [
    {
     "name": "stdout",
     "output_type": "stream",
     "text": [
      "0.785398163397448 1.04719755119660 0.523598775598299\n",
      "alpha is =  0.785398163397448 radians or  45.0000000000000 degrees\n",
      "beta  is =  1.04719755119660 radians or  60.0000000000000 degrees\n",
      "gamma is =  0.523598775598299 radians or  30.0000000000000 degrees\n"
     ]
    }
   ],
   "source": [
    "#a, b, g \n",
    "# Fixed Axis X-Y-Z Rotation Matrix\n",
    "R_XYZ = Matrix([[ 0.353553390593274, -0.306186217847897, 0.883883476483184],\n",
    "            [ 0.353553390593274,  0.918558653543692, 0.176776695296637],\n",
    "            [-0.866025403784439,               0.25, 0.433012701892219]])\n",
    "\n",
    "######## TO DO ##########\n",
    "# Calculate the Euler angles that produces a rotation equivalent to R (above)\n",
    "# NOTE: Be sure your answer has units of DEGREES!\n",
    "rtd = 180/np.pi\n",
    "alpha =  atan2(R_XYZ[1,0],R_XYZ[0,0]) # rotation about Z-axis\n",
    "beta  = atan2(-R_XYZ[2,0],sqrt(R_XYZ[0,0]**2+R_XYZ[1,0]**2)) # rotation about Y-axis\n",
    "gamma = atan2(R_XYZ[2,1],R_XYZ[2,2]) # rotation about X-axis\n",
    "\n",
    "print(alpha, beta, gamma)\n",
    "print(\"alpha is = \",alpha, \"radians\", \"or \", alpha*rtd, \"degrees\")\n",
    "print(\"beta  is = \",beta,  \"radians\", \"or \", beta*rtd, \"degrees\")\n",
    "print(\"gamma is = \",gamma, \"radians\", \"or \", gamma*rtd, \"degrees\")"
   ]
  },
  {
   "cell_type": "code",
   "execution_count": 9,
   "metadata": {},
   "outputs": [
    {
     "name": "stdout",
     "output_type": "stream",
     "text": [
      "T =  Matrix([[cos(q1), 0, sin(q1), alpha], [0, 1, 0, beta], [-sin(q1), 0, cos(q1), gamma], [0, 0, 0, 1]])\n",
      "T.T =  Matrix([[cos(q1), 0, -sin(q1), 0], [0, 1, 0, 0], [sin(q1), 0, cos(q1), 0], [alpha, beta, gamma, 1]])\n",
      "Matrix([[44.8730669589464], [0], [38.0096189432334], [1.00000000000000]])\n"
     ]
    }
   ],
   "source": [
    "alpha  = symbols('alpha')\n",
    "beta  = symbols('beta')\n",
    "gamma  = symbols('gamma')\n",
    "P = Matrix([15.0,0.0,42.,1.])     # P should be a 4x1 Matrix\n",
    "T = Matrix([[ cos(q1),        0,  sin(q1), alpha],\n",
    "            [       0,        1,        0, beta],\n",
    "            [-sin(q1),        0,  cos(q1), gamma],\n",
    "            [0       ,0       ,0         , 1]])     # T Should be a 4x4 homogeneous Transform\n",
    "P_new = T*P # \n",
    "\n",
    "print('T = ',T)\n",
    "print('T.T = ',T.T)\n",
    "print(P_new.evalf(subs = {q1:60*dtr, alpha:1., beta:0.0, gamma:30.}))"
   ]
  },
  {
   "cell_type": "code",
   "execution_count": 10,
   "metadata": {},
   "outputs": [
    {
     "name": "stdout",
     "output_type": "stream",
     "text": [
      "Transformation Matrix for A->B->E:\n",
      "Matrix([\n",
      "[  0, -1.0,    0, -2.0],\n",
      "[  0,    0, -1.0,  4.0],\n",
      "[1.0,    0,    0,  4.0],\n",
      "[  0,    0,    0,  1.0]])\n",
      "Transformation Matrix for A->C->D->E:\n",
      "Matrix([\n",
      "[  0, -1.0,    0, -2.0],\n",
      "[  0,    0, -1.0,  4.0],\n",
      "[1.0,    0,    0,  4.0],\n",
      "[  0,    0,    0,  1.0]])\n"
     ]
    }
   ],
   "source": [
    "q1, q2, q3, q4 = symbols('q1:5')\n",
    "\n",
    "### Define functions for Rotation Matrices about x, y, and z given specific angle.\n",
    "\n",
    "def rot_x(q):\n",
    "    \n",
    "    R_x = Matrix([[ 1,              0,        0],\n",
    "                  [ 0,        cos(q), -sin(q)],\n",
    "                  [ 0,        sin(q),  cos(q)]])\n",
    "    \n",
    "    return R_x\n",
    "    \n",
    "def rot_y(q):              \n",
    "    R_y = Matrix([[ cos(q),        0,  sin(q)],\n",
    "                  [       0,        1,        0],\n",
    "                  [-sin(q),        0,  cos(q)]])\n",
    "\n",
    "    \n",
    "    return R_y\n",
    "\n",
    "def rot_z(q):    \n",
    "    R_z = Matrix([[ cos(q), -sin(q),        0],\n",
    "                  [ sin(q),  cos(q),        0],\n",
    "                  [ 0,              0,        1]])\n",
    "    return R_z\n",
    "              \n",
    "### Define rotations between frames\n",
    "\n",
    "# Initial Rotation Matrix for Frame A\n",
    "Ra = Matrix([[1, 0, 0],\n",
    "             [0, 1, 0],\n",
    "             [0, 0, 1]])\n",
    "\n",
    "# Rotations performed on individual Frames for A->B->E\n",
    "Rb_a = rot_y(q1)\n",
    "Re_b = rot_x(q2)\n",
    "\n",
    "# Rotations performed on individual Frames for A->C->D->E\n",
    "Rc_a = Ra\n",
    "Rd_c = rot_x(q3)\n",
    "Re_d = rot_z(q4)\n",
    "\n",
    "### Define Translations between frames.\n",
    "\n",
    "tb_a = Matrix([[-2],[2.],[4.]])\n",
    "te_b = Matrix([[0.],[2.],[0.]])\n",
    "tc_a = Matrix([[4], [4],[0]])\n",
    "td_c = Matrix([[-3],[3],[2]])\n",
    "te_d = Matrix([[-3],[2],[3]])\n",
    "\n",
    "### Define homogenous transformation matrices\n",
    "# HINT: Check out sympy's documentation for functions row_join and col_join\n",
    "Ta = Ra.row_join(Matrix([[0], [0], [0]]))\n",
    "Ta = Ta.col_join(Matrix([[0, 0, 0, 1]]))\n",
    "\n",
    "Tb_a = Rb_a.row_join(tb_a)\n",
    "Tb_a = Tb_a.col_join(Matrix([[0, 0, 0, 1]]))\n",
    "\n",
    "Te_b = Re_b.row_join(te_b)\n",
    "Te_b = Te_b.col_join(Matrix([[0, 0, 0, 1]]))\n",
    "\n",
    "Tc_a = Rc_a.row_join(tc_a)\n",
    "Tc_a = Tc_a.col_join(Matrix([[0, 0, 0, 1]]))\n",
    "\n",
    "Td_c = Rd_c.row_join(td_c)\n",
    "Td_c = Td_c.col_join(Matrix([[0, 0, 0, 1]]))\n",
    "\n",
    "Te_d = Re_d.row_join(te_d)         \n",
    "Te_d = Te_d.col_join(Matrix([[0, 0, 0, 1]]))\n",
    "### Composition of Transformations\n",
    "Te_a_1 = simplify(Ta * Tb_a * Te_b)\n",
    "\n",
    "Te_a_2 = simplify(Ta * Tc_a * Td_c * Te_d)\n",
    "\n",
    "### Calculate orientation and position for E\n",
    "E_1 = Te_a_1.evalf(subs={q1: -pi/2, q2: pi/2}, chop = True)\n",
    "\n",
    "E_2 = Te_a_2.evalf(subs={q3: pi/2, q4: pi/2}, chop = True)\n",
    "\n",
    "print(\"Transformation Matrix for A->B->E:\")\n",
    "print(E_1)\n",
    "\n",
    "print(\"Transformation Matrix for A->C->D->E:\")\n",
    "print(E_2)"
   ]
  },
  {
   "cell_type": "code",
   "execution_count": 11,
   "metadata": {
    "collapsed": true
   },
   "outputs": [],
   "source": [
    "### Create symbols for joint variables\n",
    "q1, q2, q3, q4 = symbols('q1:5')\n",
    "d1, d2, d3, d4 = symbols('d1:5')\n",
    "a0, a1, a2, a3 = symbols('a0:4')\n",
    "alpha0, alpha1, alpha2, alpha3 = symbols('alpha0:4')\n",
    "a12 = 0.4500 # meters\n",
    "a23 = 0.3000 # meters\n",
    "# DH Parameters\n",
    "s = {alpha0: 0,  a0:   0, d1: 0, \n",
    "     alpha1: 0,  a1: a12, d2: 0,  \n",
    "     alpha2: 0,  a2: a23,        q3: 0,\n",
    "     alpha3: 0,  a3:   0, d4: 0}\n",
    "#### Homogeneous Transforms\n",
    "T0_1 = Matrix([[             cos(q1),            -sin(q1),            0,              a0],\n",
    "               [ sin(q1)*cos(alpha0), cos(q1)*cos(alpha0), -sin(alpha0), -sin(alpha0)*d1],\n",
    "               [ sin(q1)*sin(alpha0), cos(q1)*sin(alpha0),  cos(alpha0),  cos(alpha0)*d1],\n",
    "               [                   0,                   0,            0,               1]])\n",
    "T0_1 = T0_1.subs(s)\n",
    "\n",
    "T1_2 = Matrix([[             cos(q2),            -sin(q2),            0,              a1],\n",
    "               [ sin(q2)*cos(alpha1), cos(q2)*cos(alpha1), -sin(alpha1), -sin(alpha1)*d2],\n",
    "               [ sin(q2)*sin(alpha1), cos(q2)*sin(alpha1),  cos(alpha1),  cos(alpha1)*d2],\n",
    "               [                   0,                   0,            0,               1]])\n",
    "T1_2 = T1_2.subs(s)\n",
    "\n",
    "T2_3 = Matrix([[             cos(q3),            -sin(q3),            0,              a2],\n",
    "               [ sin(q3)*cos(alpha2), cos(q3)*cos(alpha2), -sin(alpha2), -sin(alpha2)*d3],\n",
    "               [ sin(q3)*sin(alpha2), cos(q3)*sin(alpha2),  cos(alpha2),  cos(alpha2)*d3],\n",
    "               [                   0,                   0,            0,               1]])\n",
    "T2_3 = T2_3.subs(s)\n",
    "\n",
    "T3_4 = Matrix([[             cos(q4),            -sin(q4),            0,              a3],\n",
    "               [ sin(q4)*cos(alpha3), cos(q4)*cos(alpha3), -sin(alpha3), -sin(alpha3)*d4],\n",
    "               [ sin(q4)*sin(alpha3), cos(q4)*sin(alpha3),  cos(alpha3),  cos(alpha3)*d4],\n",
    "               [                   0,                   0,            0,               1]])\n",
    "T3_4 = T3_4.subs(s)\n",
    "# Transform from base link to end effector\n",
    "T0_4 = simplify(T0_1 * T1_2 * T2_3 * T3_4)"
   ]
  },
  {
   "cell_type": "code",
   "execution_count": 12,
   "metadata": {},
   "outputs": [
    {
     "name": "stdout",
     "output_type": "stream",
     "text": [
      "Matrix([\n",
      "[cos(q1 + q2 + q4), -sin(q1 + q2 + q4), 0, 0.45*cos(q1) + 0.3*cos(q1 + q2)],\n",
      "[sin(q1 + q2 + q4),  cos(q1 + q2 + q4), 0, 0.45*sin(q1) + 0.3*sin(q1 + q2)],\n",
      "[                0,                  0, 1,                              d3],\n",
      "[                0,                  0, 0,                               1]])\n",
      "Matrix([\n",
      "[1.0,   0,   0, 0.75],\n",
      "[  0, 1.0,   0,    0],\n",
      "[  0,   0, 1.0,    0],\n",
      "[  0,   0,   0,  1.0]])\n",
      "Matrix([\n",
      "[1.0,   0,   0, 0.75],\n",
      "[  0, 1.0,   0,    0],\n",
      "[  0,   0, 1.0, -0.5],\n",
      "[  0,   0,   0,  1.0]])\n",
      "Matrix([\n",
      "[-0.965925826289068,  0.258819045102521,   0, -0.259807621135332],\n",
      "[-0.258819045102521, -0.965925826289068,   0,                0.6],\n",
      "[                 0,                  0, 1.0,               -0.5],\n",
      "[                 0,                  0,   0,                1.0]])\n"
     ]
    }
   ],
   "source": [
    "print(T0_4)\n",
    "print(T0_4.evalf(subs={q1: 0, q2: 0, d3: 0, q4: 0}))\n",
    "print(T0_4.evalf(subs={q1: 0, q2: 0, d3: -0.5, q4: 0}))\n",
    "print(T0_4.evalf(subs={q1: pi/2, q2: pi/3, d3: -0.5, q4: pi/4}))\n",
    "\n",
    "#![Title](https://d17h27t6h515a5.cloudfront.net/topher/2017/June/59389628_18a-l-dh-parameter-example-1.00-00-19-17.still001/18a-l-dh-parameter-example-1.00-00-19-17.still001.jpg)\n",
    "#![Image of Yaktocat](https://octodex.github.com/images/yaktocat.png)"
   ]
  },
  {
   "cell_type": "code",
   "execution_count": 13,
   "metadata": {
    "collapsed": true
   },
   "outputs": [],
   "source": [
    "# Define DH param symbols ![]()\n",
    "##   alpha i-1 -> twist angle between Z i-1 and Z i along X i-1 \n",
    "alpha0, alpha1, alpha2, alpha3, alpha4, alpha5, alpha6 = symbols('alpha0:7')\n",
    "##   a i-1 -> link length between Z i-1 and Z i along X i-1\n",
    "a0, a1, a2, a3, a4, a5, a6 = symbols('a0:7')\n",
    "##   d i -> Link offset between X i-1 and X i along Z i\n",
    "d1, d2, d3, d4, d5, d6, d7 = symbols('d1:8')\n",
    "\n",
    "# Joint angle symbols\n",
    "\n",
    "## quaternion i -> angle  between X i-1 and X i along Z i\n",
    "quaternion1, quaternion2, quaternion3, quaternion4, quaternion5, quaternion6, quaternion7 = symbols('quaternion1:8')\n",
    "\n",
    "# Modified DH params\n",
    "s = {   alpha0:     0, a0:      0, d1:  0.75,\n",
    "        alpha1: -pi/2, a1:   0.35, d2:     0, quaternion2: quaternion2-pi/2,\n",
    "        alpha2:     0, a2:   1.25, d3:     0, \n",
    "        alpha3: -pi/2, a3: -0.054, d4:   1.5,\n",
    "        alpha4:  pi/2, a4:      0, d5:     0,\n",
    "        alpha5: -pi/2, a5:      0, d6:     0,\n",
    "        alpha6:     0, a6:      0, d7: 0.303, quaternion7:       0       }\n",
    "\n",
    "# Define Modified DH Transformation matrix\n",
    "##  Correction of URDF vs. DH convention\n",
    "R_y_DH_URDF = Matrix([[ cos(-pi/2), 0, sin(-pi/2)],\n",
    "                    [          0, 1,          0],\n",
    "                    [-sin(-pi/2), 0, cos(-pi/2)]])\n",
    "\n",
    "R_z_DH_URDF = Matrix([[cos(-pi/2), -sin(-pi/2), 0], \n",
    "                    [sin(-pi/2),  cos(-pi/2), 0],\n",
    "                    [     0,       0,     1]])\n",
    "\n",
    "## 90 degree rotation about the y-axis\n",
    "R_yaxis = Matrix([[ cos(-pi/2), 0, sin(-pi/2), 0],\n",
    "            [          0, 1,          0, 0],\n",
    "            [-sin(-pi/2), 0, cos(-pi/2), 0],\n",
    "            [          0, 0,          0, 1]])\n",
    "## 180 degree rotation about the z-axis\n",
    "R_zaxis = Matrix([[cos(-pi/2), -sin(-pi/2), 0, 0],\n",
    "            [sin(-pi/2),  cos(-pi/2), 0, 0],\n",
    "            [      0,        0, 1, 0],\n",
    "            [      0,        0, 0, 1]])\n",
    "\n",
    "R_correction = R_zaxis * R_yaxis\n",
    "\n",
    "# Create individual transformation matrices !(relative translation and orientation of link i-1 to link i)[https://d17h27t6h515a5.cloudfront.net/topher/2017/May/592d6644_dh-transform-matrix/dh-transform-matrix.png]\n",
    "\n",
    "T0_1 = Matrix([[            cos(quaternion1),            -sin(quaternion1),            0,              a0],\n",
    "            [sin(quaternion1)*cos(alpha0), cos(quaternion1)*cos(alpha0), -sin(alpha0), -sin(alpha0)*d1],\n",
    "            [sin(quaternion1)*sin(alpha0), cos(quaternion1)*sin(alpha0),  cos(alpha0),  cos(alpha0)*d1],\n",
    "            [                  0,                   0,            0,               1]])\n",
    "T0_1 = T0_1.subs(s)\n",
    "\n",
    "T1_2 = Matrix([[            cos(quaternion2),            -sin(quaternion2),            0,              a1],\n",
    "            [sin(quaternion2)*cos(alpha1), cos(quaternion2)*cos(alpha1), -sin(alpha1), -sin(alpha1)*d2],\n",
    "            [sin(quaternion2)*sin(alpha1), cos(quaternion2)*sin(alpha1),  cos(alpha1),  cos(alpha1)*d2],\n",
    "            [                  0,                   0,            0,               1]])\n",
    "T1_2 = T1_2.subs(s)\n",
    "\n",
    "T2_3 = Matrix([[            cos(quaternion3),            -sin(quaternion3),            0,              a2],\n",
    "            [sin(quaternion3)*cos(alpha2), cos(quaternion3)*cos(alpha2), -sin(alpha2), -sin(alpha2)*d3],\n",
    "            [sin(quaternion3)*sin(alpha2), cos(quaternion3)*sin(alpha2),  cos(alpha2),  cos(alpha2)*d3],\n",
    "            [                  0,                   0,            0,               1]])\n",
    "T2_3 = T2_3.subs(s)\n",
    "\n",
    "T3_4 = Matrix([[            cos(quaternion4),            -sin(quaternion4),            0,              a3],\n",
    "            [sin(quaternion4)*cos(alpha3), cos(quaternion4)*cos(alpha3), -sin(alpha3), -sin(alpha3)*d4],\n",
    "            [sin(quaternion4)*sin(alpha3), cos(quaternion4)*sin(alpha3),  cos(alpha3),  cos(alpha3)*d4],\n",
    "            [                  0,                   0,            0,               1]])\n",
    "T3_4 = T3_4.subs(s)\n",
    "\n",
    "T4_5 = Matrix([[            cos(quaternion5),            -sin(quaternion5),            0,              a4],\n",
    "            [sin(quaternion5)*cos(alpha4), cos(quaternion5)*cos(alpha4), -sin(alpha4), -sin(alpha4)*d5],\n",
    "            [sin(quaternion5)*sin(alpha4), cos(quaternion5)*sin(alpha4),  cos(alpha4),  cos(alpha4)*d5],\n",
    "            [                  0,                   0,            0,               1]])\n",
    "T4_5 = T4_5.subs(s)\n",
    "\n",
    "T5_6 = Matrix([[            cos(quaternion6),            -sin(quaternion6),            0,              a5],\n",
    "            [sin(quaternion6)*cos(alpha5), cos(quaternion6)*cos(alpha5), -sin(alpha5), -sin(alpha5)*d6],\n",
    "            [sin(quaternion6)*sin(alpha5), cos(quaternion6)*sin(alpha5),  cos(alpha5),  cos(alpha5)*d6],\n",
    "            [                  0,                   0,            0,               1]])\n",
    "T5_6 = T5_6.subs(s)\n",
    "\n",
    "T6_EEF = Matrix([[            cos(quaternion7),            -sin(quaternion7),            0,              a6],\n",
    "            [sin(quaternion7)*cos(alpha6), cos(quaternion7)*cos(alpha6), -sin(alpha6), -sin(alpha6)*d7],\n",
    "            [sin(quaternion7)*sin(alpha6), cos(quaternion7)*sin(alpha6),  cos(alpha6),  cos(alpha6)*d7],\n",
    "            [                  0,                   0,            0,               1]])\n",
    "T6_EEF = T6_EEF.subs(s)\n",
    "\n",
    "T0_2 = T0_1 * T1_2\n",
    "T0_3 = simplify(T0_2 * T2_3)\n",
    "T0_4 = T0_3 * T3_4\n",
    "T0_5 = T0_4 * T4_5\n",
    "T0_6 = T0_5 * T5_6 \n",
    "#simplify only T0_EFF and T0_3 as others are intermediate calculations no need of simplification in optimistaion phase\n",
    "T0_EEF = simplify(T0_6 * T6_EEF)\n",
    "\n",
    "## Corrected DH convention to URDF frame\n",
    "T_corrected = simplify(T0_EEF * R_correction)\n"
   ]
  },
  {
   "cell_type": "code",
   "execution_count": 14,
   "metadata": {},
   "outputs": [
    {
     "name": "stdout",
     "output_type": "stream",
     "text": [
      "\n",
      " TO_1\n",
      "Matrix([[cos(quaternion1), -sin(quaternion1), 0, 0], [sin(quaternion1), cos(quaternion1), 0, 0], [0, 0, 1, 0.750000000000000], [0, 0, 0, 1]])\n",
      "\n",
      " T1_2\n",
      "Matrix([[sin(quaternion2), cos(quaternion2), 0, 0.350000000000000], [0, 0, 1, 0], [cos(quaternion2), -sin(quaternion2), 0, 0], [0, 0, 0, 1]])\n",
      "\n",
      " T2_3\n",
      "Matrix([[cos(quaternion3), -sin(quaternion3), 0, 1.25000000000000], [sin(quaternion3), cos(quaternion3), 0, 0], [0, 0, 1, 0], [0, 0, 0, 1]])\n",
      "\n",
      " T3_4\n",
      "Matrix([[cos(quaternion4), -sin(quaternion4), 0, -0.0540000000000000], [0, 0, 1, 1.50000000000000], [-sin(quaternion4), -cos(quaternion4), 0, 0], [0, 0, 0, 1]])\n",
      "\n",
      " T4_5\n",
      "Matrix([[cos(quaternion5), -sin(quaternion5), 0, 0], [0, 0, -1, 0], [sin(quaternion5), cos(quaternion5), 0, 0], [0, 0, 0, 1]])\n",
      "\n",
      " T5_6\n",
      "Matrix([[cos(quaternion6), -sin(quaternion6), 0, 0], [0, 0, 1, 0], [-sin(quaternion6), -cos(quaternion6), 0, 0], [0, 0, 0, 1]])\n",
      "\n",
      " T6_EEF\n",
      "Matrix([[1, 0, 0, 0], [0, 1, 0, 0], [0, 0, 1, 0.303000000000000], [0, 0, 0, 1]])\n",
      "\n",
      " T0_3\n",
      "Matrix([\n",
      "[sin(quaternion2 + quaternion3)*cos(quaternion1), cos(quaternion1)*cos(quaternion2 + quaternion3), -sin(quaternion1), (1.25*sin(quaternion2) + 0.35)*cos(quaternion1)],\n",
      "[sin(quaternion1)*sin(quaternion2 + quaternion3), sin(quaternion1)*cos(quaternion2 + quaternion3),  cos(quaternion1), (1.25*sin(quaternion2) + 0.35)*sin(quaternion1)],\n",
      "[                 cos(quaternion2 + quaternion3),                 -sin(quaternion2 + quaternion3),                 0,                    1.25*cos(quaternion2) + 0.75],\n",
      "[                                              0,                                               0,                 0,                                               1]])\n",
      "Matrix([\n",
      "[  0, 1.0,   0, 0.35],\n",
      "[  0,   0, 1.0,    0],\n",
      "[1.0,   0,   0,  2.0],\n",
      "[  0,   0,   0,  1.0]])\n",
      "Matrix([\n",
      "[-0.479425538604203, 0.877582561890373,   0, 0.35],\n",
      "[                 0,                 0, 1.0,    0],\n",
      "[ 0.877582561890373, 0.479425538604203,   0,  2.0],\n",
      "[                 0,                 0,   0,  1.0]])\n",
      "Matrix([\n",
      "[         -0.e-214,           -0.e-214,     -1.0,         -0.e-214],\n",
      "[0.520296023213191,  0.853985976599463, -0.e-189, 1.43253175473055],\n",
      "[0.853985976599463, -0.520296023213191,        0,            1.375],\n",
      "[                0,                  0,        0,              1.0]])\n"
     ]
    }
   ],
   "source": [
    "print(\"\\n TO_1\")\n",
    "print(T0_1)\n",
    "print(\"\\n T1_2\")\n",
    "print(T1_2)\n",
    "print(\"\\n T2_3\")\n",
    "print(T2_3)\n",
    "print(\"\\n T3_4\")\n",
    "print(T3_4)\n",
    "print(\"\\n T4_5\")\n",
    "print(T4_5)\n",
    "print(\"\\n T5_6\")\n",
    "print(T5_6)\n",
    "print(\"\\n T6_EEF\")\n",
    "print(T6_EEF)\n",
    "\n",
    "print(\"\\n T0_3\")\n",
    "print(T0_3)\n",
    "print(T0_3.evalf(subs={quaternion1: 0, quaternion2: 0, quaternion3: 0, quaternion4: 0}))\n",
    "print(T0_3.evalf(subs={quaternion1: 0, quaternion2: 0, quaternion3: -0.5, quaternion4: 0}))\n",
    "print(T0_3.evalf(subs={quaternion1: pi/2, quaternion2: pi/3, quaternion3: -0.5, quaternion4: pi/4}))"
   ]
  },
  {
   "cell_type": "code",
   "execution_count": 15,
   "metadata": {},
   "outputs": [
    {
     "name": "stdout",
     "output_type": "stream",
     "text": [
      "Matrix([\n",
      "[((sin(quaternion1)*sin(quaternion4) + sin(quaternion2 + quaternion3)*cos(quaternion1)*cos(quaternion4))*cos(quaternion5) + sin(quaternion5)*cos(quaternion1)*cos(quaternion2 + quaternion3))*cos(quaternion6) + (sin(quaternion1)*cos(quaternion4) - sin(quaternion4)*sin(quaternion2 + quaternion3)*cos(quaternion1))*sin(quaternion6), -((sin(quaternion1)*sin(quaternion4) + sin(quaternion2 + quaternion3)*cos(quaternion1)*cos(quaternion4))*cos(quaternion5) + sin(quaternion5)*cos(quaternion1)*cos(quaternion2 + quaternion3))*sin(quaternion6) + (sin(quaternion1)*cos(quaternion4) - sin(quaternion4)*sin(quaternion2 + quaternion3)*cos(quaternion1))*cos(quaternion6), -(sin(quaternion1)*sin(quaternion4) + sin(quaternion2 + quaternion3)*cos(quaternion1)*cos(quaternion4))*sin(quaternion5) + cos(quaternion1)*cos(quaternion5)*cos(quaternion2 + quaternion3), -0.303*(sin(quaternion1)*sin(quaternion4) + sin(quaternion2 + quaternion3)*cos(quaternion1)*cos(quaternion4))*sin(quaternion5) + (1.25*sin(quaternion2) + 0.35)*cos(quaternion1) - 0.054*sin(quaternion2 + quaternion3)*cos(quaternion1) + 0.303*cos(quaternion1)*cos(quaternion5)*cos(quaternion2 + quaternion3) + 1.5*cos(quaternion1)*cos(quaternion2 + quaternion3)],\n",
      "[((sin(quaternion1)*sin(quaternion2 + quaternion3)*cos(quaternion4) - sin(quaternion4)*cos(quaternion1))*cos(quaternion5) + sin(quaternion1)*sin(quaternion5)*cos(quaternion2 + quaternion3))*cos(quaternion6) - (sin(quaternion1)*sin(quaternion4)*sin(quaternion2 + quaternion3) + cos(quaternion1)*cos(quaternion4))*sin(quaternion6), -((sin(quaternion1)*sin(quaternion2 + quaternion3)*cos(quaternion4) - sin(quaternion4)*cos(quaternion1))*cos(quaternion5) + sin(quaternion1)*sin(quaternion5)*cos(quaternion2 + quaternion3))*sin(quaternion6) - (sin(quaternion1)*sin(quaternion4)*sin(quaternion2 + quaternion3) + cos(quaternion1)*cos(quaternion4))*cos(quaternion6), -(sin(quaternion1)*sin(quaternion2 + quaternion3)*cos(quaternion4) - sin(quaternion4)*cos(quaternion1))*sin(quaternion5) + sin(quaternion1)*cos(quaternion5)*cos(quaternion2 + quaternion3), -0.303*(sin(quaternion1)*sin(quaternion2 + quaternion3)*cos(quaternion4) - sin(quaternion4)*cos(quaternion1))*sin(quaternion5) + (1.25*sin(quaternion2) + 0.35)*sin(quaternion1) - 0.054*sin(quaternion1)*sin(quaternion2 + quaternion3) + 0.303*sin(quaternion1)*cos(quaternion5)*cos(quaternion2 + quaternion3) + 1.5*sin(quaternion1)*cos(quaternion2 + quaternion3)],\n",
      "[                                                                                                                              -(sin(quaternion5)*sin(quaternion2 + quaternion3) - cos(quaternion4)*cos(quaternion5)*cos(quaternion2 + quaternion3))*cos(quaternion6) - sin(quaternion4)*sin(quaternion6)*cos(quaternion2 + quaternion3),                                                                                                                                 (sin(quaternion5)*sin(quaternion2 + quaternion3) - cos(quaternion4)*cos(quaternion5)*cos(quaternion2 + quaternion3))*sin(quaternion6) - sin(quaternion4)*cos(quaternion6)*cos(quaternion2 + quaternion3),                                                                         -sin(quaternion5)*cos(quaternion4)*cos(quaternion2 + quaternion3) - sin(quaternion2 + quaternion3)*cos(quaternion5),                                                                                                                              -0.303*sin(quaternion5)*cos(quaternion4)*cos(quaternion2 + quaternion3) - 0.303*sin(quaternion2 + quaternion3)*cos(quaternion5) - 1.5*sin(quaternion2 + quaternion3) + 1.25*cos(quaternion2) - 0.054*cos(quaternion2 + quaternion3) + 0.75],\n",
      "[                                                                                                                                                                                                                                                                                                                                      0,                                                                                                                                                                                                                                                                                                                                        0,                                                                                                                                                                                           0,                                                                                                                                                                                                                                                                                                                                                                       1]])\n",
      "Matrix([\n",
      "[  0,    0, 1.0, 2.153],\n",
      "[  0, -1.0,   0,     0],\n",
      "[1.0,    0,   0, 1.946],\n",
      "[  0,    0,   0,   1.0]])\n",
      "Matrix([\n",
      "[ 0.440250756663258, -0.861481096514714,  0.253040691599661,  1.56177167220725],\n",
      "[-0.493152325375963, -0.467511690841823, -0.733644057361947, 0.589019865478284],\n",
      "[ 0.750319968569216,  0.198199745897985, -0.630663781655697,  2.48065772372255],\n",
      "[                 0,                  0,                  0,               1.0]])\n",
      "Matrix([\n",
      "[ 0.848973097957951,  0.326341734286952, -0.415626937777453, -0.125934962146568],\n",
      "[ 0.508522906243558, -0.718415760832672,  0.474640125160967,       2.8292306923],\n",
      "[-0.143698061118737, -0.614312515784757, -0.775867901244096,  0.313352748366882],\n",
      "[                 0,                  0,                  0,                1.0]])\n"
     ]
    }
   ],
   "source": [
    "print(T0_EEF)\n",
    "print(T0_EEF.evalf(subs={quaternion1: 0, quaternion2: 0, quaternion3: 0, quaternion4: 0, quaternion5: 0, quaternion6: 0}))\n",
    "print(T0_EEF.evalf(subs={quaternion1: 0.5, quaternion2: 0, quaternion3: -0.5, quaternion4: -1, quaternion5: 2, quaternion6: 1}))\n",
    "print(T0_EEF.evalf(subs={quaternion1: pi/2, quaternion2: pi/3, quaternion3: -0.5, quaternion4: pi/4, quaternion5: pi/5, quaternion6: pi/6}))"
   ]
  },
  {
   "cell_type": "code",
   "execution_count": 16,
   "metadata": {},
   "outputs": [
    {
     "name": "stdout",
     "output_type": "stream",
     "text": [
      "Matrix([[0, 0, -1], [0, 1, 0], [1, 0, 0]])\n",
      "Matrix([[0, 1, 0], [-1, 0, 0], [0, 0, 1]])\n",
      "Matrix([[0, 0, -1, 0], [0, 1, 0, 0], [1, 0, 0, 0], [0, 0, 0, 1]])\n",
      "Matrix([[0, 1, 0, 0], [-1, 0, 0, 0], [0, 0, 1, 0], [0, 0, 0, 1]])\n",
      "Matrix([[0, 1, 0, 0], [0, 0, 1, 0], [1, 0, 0, 0], [0, 0, 0, 1]])\n"
     ]
    }
   ],
   "source": [
    "print(R_y_DH_URDF)\n",
    "print(R_z_DH_URDF)\n",
    "print(R_yaxis)\n",
    "print(R_zaxis)\n",
    "print(R_correction)"
   ]
  },
  {
   "cell_type": "code",
   "execution_count": 17,
   "metadata": {},
   "outputs": [
    {
     "name": "stdout",
     "output_type": "stream",
     "text": [
      "Matrix([\n",
      "[-(sin(quaternion1)*sin(quaternion4) + sin(quaternion2 + quaternion3)*cos(quaternion1)*cos(quaternion4))*sin(quaternion5) + cos(quaternion1)*cos(quaternion5)*cos(quaternion2 + quaternion3), ((sin(quaternion1)*sin(quaternion4) + sin(quaternion2 + quaternion3)*cos(quaternion1)*cos(quaternion4))*cos(quaternion5) + sin(quaternion5)*cos(quaternion1)*cos(quaternion2 + quaternion3))*cos(quaternion6) + (sin(quaternion1)*cos(quaternion4) - sin(quaternion4)*sin(quaternion2 + quaternion3)*cos(quaternion1))*sin(quaternion6), -((sin(quaternion1)*sin(quaternion4) + sin(quaternion2 + quaternion3)*cos(quaternion1)*cos(quaternion4))*cos(quaternion5) + sin(quaternion5)*cos(quaternion1)*cos(quaternion2 + quaternion3))*sin(quaternion6) + (sin(quaternion1)*cos(quaternion4) - sin(quaternion4)*sin(quaternion2 + quaternion3)*cos(quaternion1))*cos(quaternion6), -0.303*(sin(quaternion1)*sin(quaternion4) + sin(quaternion2 + quaternion3)*cos(quaternion1)*cos(quaternion4))*sin(quaternion5) + (1.25*sin(quaternion2) + 0.35)*cos(quaternion1) - 0.054*sin(quaternion2 + quaternion3)*cos(quaternion1) + 0.303*cos(quaternion1)*cos(quaternion5)*cos(quaternion2 + quaternion3) + 1.5*cos(quaternion1)*cos(quaternion2 + quaternion3)],\n",
      "[-(sin(quaternion1)*sin(quaternion2 + quaternion3)*cos(quaternion4) - sin(quaternion4)*cos(quaternion1))*sin(quaternion5) + sin(quaternion1)*cos(quaternion5)*cos(quaternion2 + quaternion3), ((sin(quaternion1)*sin(quaternion2 + quaternion3)*cos(quaternion4) - sin(quaternion4)*cos(quaternion1))*cos(quaternion5) + sin(quaternion1)*sin(quaternion5)*cos(quaternion2 + quaternion3))*cos(quaternion6) - (sin(quaternion1)*sin(quaternion4)*sin(quaternion2 + quaternion3) + cos(quaternion1)*cos(quaternion4))*sin(quaternion6), -((sin(quaternion1)*sin(quaternion2 + quaternion3)*cos(quaternion4) - sin(quaternion4)*cos(quaternion1))*cos(quaternion5) + sin(quaternion1)*sin(quaternion5)*cos(quaternion2 + quaternion3))*sin(quaternion6) - (sin(quaternion1)*sin(quaternion4)*sin(quaternion2 + quaternion3) + cos(quaternion1)*cos(quaternion4))*cos(quaternion6), -0.303*(sin(quaternion1)*sin(quaternion2 + quaternion3)*cos(quaternion4) - sin(quaternion4)*cos(quaternion1))*sin(quaternion5) + (1.25*sin(quaternion2) + 0.35)*sin(quaternion1) - 0.054*sin(quaternion1)*sin(quaternion2 + quaternion3) + 0.303*sin(quaternion1)*cos(quaternion5)*cos(quaternion2 + quaternion3) + 1.5*sin(quaternion1)*cos(quaternion2 + quaternion3)],\n",
      "[                                                                        -sin(quaternion5)*cos(quaternion4)*cos(quaternion2 + quaternion3) - sin(quaternion2 + quaternion3)*cos(quaternion5),                                                                                                                               -(sin(quaternion5)*sin(quaternion2 + quaternion3) - cos(quaternion4)*cos(quaternion5)*cos(quaternion2 + quaternion3))*cos(quaternion6) - sin(quaternion4)*sin(quaternion6)*cos(quaternion2 + quaternion3),                                                                                                                                 (sin(quaternion5)*sin(quaternion2 + quaternion3) - cos(quaternion4)*cos(quaternion5)*cos(quaternion2 + quaternion3))*sin(quaternion6) - sin(quaternion4)*cos(quaternion6)*cos(quaternion2 + quaternion3),                                                                                                                              -0.303*sin(quaternion5)*cos(quaternion4)*cos(quaternion2 + quaternion3) - 0.303*sin(quaternion2 + quaternion3)*cos(quaternion5) - 1.5*sin(quaternion2 + quaternion3) + 1.25*cos(quaternion2) - 0.054*cos(quaternion2 + quaternion3) + 0.75],\n",
      "[                                                                                                                                                                                          0,                                                                                                                                                                                                                                                                                                                                       0,                                                                                                                                                                                                                                                                                                                                        0,                                                                                                                                                                                                                                                                                                                                                                       1]])\n",
      "\n",
      "\n",
      "Matrix([\n",
      "[1.0,   0,    0, 2.153],\n",
      "[  0,   0, -1.0,     0],\n",
      "[  0, 1.0,    0, 1.946],\n",
      "[  0,   0,    0,   1.0]])\n",
      "Matrix([\n",
      "[ 0.253040691599661,  0.440250756663258, -0.861481096514714,  1.56177167220725],\n",
      "[-0.733644057361947, -0.493152325375963, -0.467511690841823, 0.589019865478284],\n",
      "[-0.630663781655697,  0.750319968569216,  0.198199745897985,  2.48065772372255],\n",
      "[                 0,                  0,                  0,               1.0]])\n",
      "Matrix([\n",
      "[-0.415626937777453,  0.848973097957951,  0.326341734286952, -0.125934962146568],\n",
      "[ 0.474640125160967,  0.508522906243558, -0.718415760832672,       2.8292306923],\n",
      "[-0.775867901244096, -0.143698061118737, -0.614312515784757,  0.313352748366882],\n",
      "[                 0,                  0,                  0,                1.0]])\n"
     ]
    }
   ],
   "source": [
    "print(T_corrected)\n",
    "print(\"\\n\")\n",
    "print(T_corrected.evalf(subs={quaternion1: 0, quaternion2: 0, quaternion3: 0, quaternion4: 0, quaternion5: 0, quaternion6: 0}))\n",
    "print(T_corrected.evalf(subs={quaternion1: 0.5, quaternion2: 0, quaternion3: -0.5, quaternion4: -1, quaternion5: 2, quaternion6: 1}))\n",
    "print(T_corrected.evalf(subs={quaternion1: pi/2, quaternion2: pi/3, quaternion3: -0.5, quaternion4: pi/4, quaternion5: pi/5, quaternion6: pi/6}))"
   ]
  },
  {
   "cell_type": "code",
   "execution_count": 18,
   "metadata": {},
   "outputs": [
    {
     "name": "stdout",
     "output_type": "stream",
     "text": [
      "Matrix([\n",
      "[sin(quaternion2 + quaternion3)*cos(quaternion1), cos(quaternion1)*cos(quaternion2 + quaternion3), -sin(quaternion1)],\n",
      "[sin(quaternion1)*sin(quaternion2 + quaternion3), sin(quaternion1)*cos(quaternion2 + quaternion3),  cos(quaternion1)],\n",
      "[                 cos(quaternion2 + quaternion3),                 -sin(quaternion2 + quaternion3),                 0]])\n",
      "\n",
      "\n",
      "Matrix([\n",
      "[(sin(quaternion1)*cos(quaternion2 + quaternion3)**2/(sin(quaternion2 + quaternion3)*cos(quaternion1)) - sin(quaternion1)/(sin(quaternion2 + quaternion3)*cos(quaternion1)))*sin(quaternion1) - cos(quaternion2 + quaternion3)**2/(sin(quaternion2 + quaternion3)*cos(quaternion1)) + 1/(sin(quaternion2 + quaternion3)*cos(quaternion1)), -(sin(quaternion1)*cos(quaternion2 + quaternion3)**2/(sin(quaternion2 + quaternion3)*cos(quaternion1)) - sin(quaternion1)/(sin(quaternion2 + quaternion3)*cos(quaternion1)))*cos(quaternion1),  cos(quaternion2 + quaternion3)],\n",
      "[                                                                                                                                                                                                                  -sin(quaternion1)**2*cos(quaternion2 + quaternion3)/cos(quaternion1) + cos(quaternion2 + quaternion3)/cos(quaternion1),                                                                                                                                               sin(quaternion1)*cos(quaternion2 + quaternion3), -sin(quaternion2 + quaternion3)],\n",
      "[                                                                                                                                                                                                                                                                                                                       -sin(quaternion1),                                                                                                                                                                              cos(quaternion1),                               0]])\n",
      "\n",
      "\n",
      "Matrix([\n",
      "[sin(p)*sin(r)*cos(y) - sin(y)*cos(r), sin(p)*cos(r)*cos(y) + sin(r)*sin(y), cos(p)*cos(y)],\n",
      "[sin(p)*sin(r)*sin(y) + cos(r)*cos(y), sin(p)*sin(y)*cos(r) - sin(r)*cos(y), sin(y)*cos(p)],\n",
      "[                       sin(r)*cos(p),                        cos(p)*cos(r),       -sin(p)]])\n",
      "\n",
      "\n",
      "Matrix([\n",
      "[-(sin(p)*sin(r)*sin(y) + cos(r)*cos(y))*(sin(quaternion1)*cos(quaternion2 + quaternion3)**2/(sin(quaternion2 + quaternion3)*cos(quaternion1)) - sin(quaternion1)/(sin(quaternion2 + quaternion3)*cos(quaternion1)))*cos(quaternion1) + (sin(p)*sin(r)*cos(y) - sin(y)*cos(r))*((sin(quaternion1)*cos(quaternion2 + quaternion3)**2/(sin(quaternion2 + quaternion3)*cos(quaternion1)) - sin(quaternion1)/(sin(quaternion2 + quaternion3)*cos(quaternion1)))*sin(quaternion1) - cos(quaternion2 + quaternion3)**2/(sin(quaternion2 + quaternion3)*cos(quaternion1)) + 1/(sin(quaternion2 + quaternion3)*cos(quaternion1))) + sin(r)*cos(p)*cos(quaternion2 + quaternion3), -(sin(p)*sin(y)*cos(r) - sin(r)*cos(y))*(sin(quaternion1)*cos(quaternion2 + quaternion3)**2/(sin(quaternion2 + quaternion3)*cos(quaternion1)) - sin(quaternion1)/(sin(quaternion2 + quaternion3)*cos(quaternion1)))*cos(quaternion1) + (sin(p)*cos(r)*cos(y) + sin(r)*sin(y))*((sin(quaternion1)*cos(quaternion2 + quaternion3)**2/(sin(quaternion2 + quaternion3)*cos(quaternion1)) - sin(quaternion1)/(sin(quaternion2 + quaternion3)*cos(quaternion1)))*sin(quaternion1) - cos(quaternion2 + quaternion3)**2/(sin(quaternion2 + quaternion3)*cos(quaternion1)) + 1/(sin(quaternion2 + quaternion3)*cos(quaternion1))) + cos(p)*cos(r)*cos(quaternion2 + quaternion3), -(sin(quaternion1)*cos(quaternion2 + quaternion3)**2/(sin(quaternion2 + quaternion3)*cos(quaternion1)) - sin(quaternion1)/(sin(quaternion2 + quaternion3)*cos(quaternion1)))*sin(y)*cos(p)*cos(quaternion1) + ((sin(quaternion1)*cos(quaternion2 + quaternion3)**2/(sin(quaternion2 + quaternion3)*cos(quaternion1)) - sin(quaternion1)/(sin(quaternion2 + quaternion3)*cos(quaternion1)))*sin(quaternion1) - cos(quaternion2 + quaternion3)**2/(sin(quaternion2 + quaternion3)*cos(quaternion1)) + 1/(sin(quaternion2 + quaternion3)*cos(quaternion1)))*cos(p)*cos(y) - sin(p)*cos(quaternion2 + quaternion3)],\n",
      "[                                                                                                                                                                                                                                                                                                                                                                (sin(p)*sin(r)*sin(y) + cos(r)*cos(y))*sin(quaternion1)*cos(quaternion2 + quaternion3) + (sin(p)*sin(r)*cos(y) - sin(y)*cos(r))*(-sin(quaternion1)**2*cos(quaternion2 + quaternion3)/cos(quaternion1) + cos(quaternion2 + quaternion3)/cos(quaternion1)) - sin(r)*sin(quaternion2 + quaternion3)*cos(p),                                                                                                                                                                                                                                                                                                                                                                 (sin(p)*sin(y)*cos(r) - sin(r)*cos(y))*sin(quaternion1)*cos(quaternion2 + quaternion3) + (sin(p)*cos(r)*cos(y) + sin(r)*sin(y))*(-sin(quaternion1)**2*cos(quaternion2 + quaternion3)/cos(quaternion1) + cos(quaternion2 + quaternion3)/cos(quaternion1)) - sin(quaternion2 + quaternion3)*cos(p)*cos(r),                                                                                                                                                                                                                                                                                                                                                                 (-sin(quaternion1)**2*cos(quaternion2 + quaternion3)/cos(quaternion1) + cos(quaternion2 + quaternion3)/cos(quaternion1))*cos(p)*cos(y) + sin(p)*sin(quaternion2 + quaternion3) + sin(quaternion1)*sin(y)*cos(p)*cos(quaternion2 + quaternion3)],\n",
      "[                                                                                                                                                                                                                                                                                                                                                                                                                                                                                                                                                      (sin(p)*sin(r)*sin(y) + cos(r)*cos(y))*cos(quaternion1) - (sin(p)*sin(r)*cos(y) - sin(y)*cos(r))*sin(quaternion1),                                                                                                                                                                                                                                                                                                                                                                                                                                                                                                                                                       (sin(p)*sin(y)*cos(r) - sin(r)*cos(y))*cos(quaternion1) - (sin(p)*cos(r)*cos(y) + sin(r)*sin(y))*sin(quaternion1),                                                                                                                                                                                                                                                                                                                                                                                                                                                                                                                                               -sin(quaternion1)*cos(p)*cos(y) + sin(y)*cos(p)*cos(quaternion1)]])\n"
     ]
    }
   ],
   "source": [
    "R_x = Matrix([[1,         0,          0], \n",
    "                [0, cos(r), -sin(r)],\n",
    "                [0, sin(r),  cos(r)]])\n",
    "\n",
    "R_y = Matrix([[ cos(p), 0, sin(p)],\n",
    "                [          0, 1,          0],\n",
    "                [-sin(p), 0, cos(p)]])\n",
    "\n",
    "R_z = Matrix([[cos(y), -sin(y), 0], \n",
    "                [sin(y),  cos(y), 0],\n",
    "                [     0,       0,     1]])\n",
    "\n",
    "R_ypr = R_z * R_y * R_x\n",
    "\n",
    "R_ypr_adjusted = R_ypr* (R_z_DH_URDF * R_y_DH_URDF).T\n",
    "R0_3 = T0_3[0:3,0:3]\n",
    "\n",
    "R3_6 = R0_3.inv() * R_ypr_adjusted\n",
    "print(R0_3)\n",
    "print(\"\\n\")\n",
    "print(R0_3.inv())\n",
    "print(\"\\n\")\n",
    "print(simplify(R_ypr_adjusted))\n",
    "print(\"\\n\")\n",
    "print(R3_6)"
   ]
  },
  {
   "cell_type": "code",
   "execution_count": 19,
   "metadata": {},
   "outputs": [
    {
     "name": "stdout",
     "output_type": "stream",
     "text": [
      "Matrix([\n",
      "[((sin(p)*sin(r)*sin(y) + cos(r)*cos(y))*sin(quaternion1)*sin(quaternion2 + quaternion3)**2 + (sin(p)*sin(r)*cos(y) - sin(y)*cos(r))*(-cos(quaternion2 + quaternion3)**2 + 1)*cos(quaternion1) + sin(r)*sin(quaternion2 + quaternion3)*cos(p)*cos(quaternion2 + quaternion3))/sin(quaternion2 + quaternion3), (-(-sin(p)*sin(y)*cos(r) + sin(r)*cos(y))*sin(quaternion1)*sin(quaternion2 + quaternion3)**2 + (sin(p)*cos(r)*cos(y) + sin(r)*sin(y))*(-cos(quaternion2 + quaternion3)**2 + 1)*cos(quaternion1) + sin(quaternion2 + quaternion3)*cos(p)*cos(r)*cos(quaternion2 + quaternion3))/sin(quaternion2 + quaternion3), (-2*cos(-p + 2*quaternion2 + 2*quaternion3) + 2*cos(p - quaternion1 + y) + 2*cos(p + quaternion1 - y) + 2*cos(p + 2*quaternion2 + 2*quaternion3) - cos(-p - quaternion1 + 2*quaternion2 + 2*quaternion3 + y) - cos(-p + quaternion1 + 2*quaternion2 + 2*quaternion3 - y) - cos(p - quaternion1 + 2*quaternion2 + 2*quaternion3 + y) - cos(p + quaternion1 + 2*quaternion2 + 2*quaternion3 - y))/(8*sin(quaternion2 + quaternion3))],\n",
      "[                                                                                                                              sin(p)*sin(r)*cos(quaternion1 - y)*cos(quaternion2 + quaternion3) - sin(r)*sin(quaternion2 + quaternion3)*cos(p) + sin(quaternion1 - y)*cos(r)*cos(quaternion2 + quaternion3),                                                                                                                                 sin(p)*cos(r)*cos(quaternion1 - y)*cos(quaternion2 + quaternion3) - sin(r)*sin(quaternion1 - y)*cos(quaternion2 + quaternion3) - sin(quaternion2 + quaternion3)*cos(p)*cos(r),                                                                                                                                                                                                                                                                                                                                 sin(p)*sin(quaternion2 + quaternion3) + cos(p)*cos(quaternion1 - y)*cos(quaternion2 + quaternion3)],\n",
      "[                                                                                                                                                                                                                                          -sin(p)*sin(r)*sin(quaternion1 - y) + cos(r)*cos(quaternion1 - y),                                                                                                                                                                                                                                             -sin(p)*sin(quaternion1 - y)*cos(r) - sin(r)*cos(quaternion1 - y),                                                                                                                                                                                                                                                                                                                                                                                                       -sin(quaternion1 - y)*cos(p)]])\n"
     ]
    }
   ],
   "source": [
    "MP = simplify(R3_6)\n",
    "\n",
    "print(MP)"
   ]
  },
  {
   "cell_type": "code",
   "execution_count": 68,
   "metadata": {},
   "outputs": [
    {
     "name": "stdout",
     "output_type": "stream",
     "text": [
      "⎡1.0⋅sin(α)⋅sin(γ) + 1.0⋅sin(β)⋅cos(α)⋅cos(γ)  1.0⋅sin(α)⋅cos(γ) - 1.0⋅sin(β)⋅\n",
      "⎢                                                                             \n",
      "⎢1.0⋅sin(α)⋅sin(β)⋅cos(γ) - 1.0⋅sin(γ)⋅cos(α)  -1.0⋅sin(α)⋅sin(β)⋅sin(γ) - 1.0\n",
      "⎢                                                                             \n",
      "⎣             1.0⋅cos(β)⋅cos(γ)                             -1.0⋅sin(γ)⋅cos(β)\n",
      "\n",
      "sin(γ)⋅cos(α)   cos(α)⋅cos(β)⎤\n",
      "                             ⎥\n",
      "⋅cos(α)⋅cos(γ)  sin(α)⋅cos(β)⎥\n",
      "                             ⎥\n",
      "                   -sin(β)   ⎦\n"
     ]
    }
   ],
   "source": [
    "alpha, beta, gamma = symbols('alpha beta gamma', real = True)\n",
    "    \n",
    "R0u = Matrix([\n",
    "            [cos(alpha)*cos(beta), -sin(alpha)*cos(gamma) + sin(beta)*sin(gamma)*cos(alpha), sin(alpha)*sin(gamma) + sin(beta)*cos(alpha)*cos(gamma)],\n",
    "            [sin(alpha)*cos(beta),  sin(alpha)*sin(beta)*sin(gamma) + cos(alpha)*cos(gamma), sin(alpha)*sin(beta)*cos(gamma) - sin(gamma)*cos(alpha)],\n",
    "            [          -sin(beta),                                     sin(gamma)*cos(beta),                                    cos(beta)*cos(gamma)]])\n",
    "RguT_eval = Matrix([[0, 0, 1], [0, -1.00000000000000, 0], [1.00000000000000, 0, 0]])\n",
    "R0u_eval = R0u.evalf()\n",
    "R0g_eval = simplify(R0u_eval * RguT_eval)\n",
    "pprint(R0g_eval)"
   ]
  },
  {
   "cell_type": "code",
   "execution_count": 69,
   "metadata": {},
   "outputs": [
    {
     "name": "stdout",
     "output_type": "stream",
     "text": [
      "⎡1.0⋅sin(β)⋅sin(q₂ + q₃)⋅cos(γ)⋅cos(α - q₁) + 1.0⋅sin(γ)⋅sin(α - q₁)⋅sin(q₂ + \n",
      "⎢                                                                             \n",
      "⎢1.0⋅sin(β)⋅cos(γ)⋅cos(α - q₁)⋅cos(q₂ + q₃) + 1.0⋅sin(γ)⋅sin(α - q₁)⋅cos(q₂ + \n",
      "⎢                                                                             \n",
      "⎣                             1.0⋅sin(β)⋅sin(α - q₁)⋅cos(γ) - 1.0⋅sin(γ)⋅cos(α\n",
      "\n",
      "q₃) + 1.0⋅cos(β)⋅cos(γ)⋅cos(q₂ + q₃)  -1.0⋅sin(β)⋅sin(γ)⋅sin(q₂ + q₃)⋅cos(α - \n",
      "                                                                              \n",
      "q₃) - 1.0⋅sin(q₂ + q₃)⋅cos(β)⋅cos(γ)  -1.0⋅sin(β)⋅sin(γ)⋅cos(α - q₁)⋅cos(q₂ + \n",
      "                                                                              \n",
      " - q₁)                                                             -1.0⋅sin(β)\n",
      "\n",
      "q₁) - 1.0⋅sin(γ)⋅cos(β)⋅cos(q₂ + q₃) + 1.0⋅sin(α - q₁)⋅sin(q₂ + q₃)⋅cos(γ)  -s\n",
      "                                                                              \n",
      "q₃) + 1.0⋅sin(γ)⋅sin(q₂ + q₃)⋅cos(β) + 1.0⋅sin(α - q₁)⋅cos(γ)⋅cos(q₂ + q₃)  si\n",
      "                                                                              \n",
      "⋅sin(γ)⋅sin(α - q₁) - 1.0⋅cos(γ)⋅cos(α - q₁)                                  \n",
      "\n",
      "in(β)⋅cos(q₂ + q₃) + sin(q₂ + q₃)⋅cos(β)⋅cos(α - q₁)⎤\n",
      "                                                    ⎥\n",
      "n(β)⋅sin(q₂ + q₃) + cos(β)⋅cos(α - q₁)⋅cos(q₂ + q₃) ⎥\n",
      "                                                    ⎥\n",
      "                sin(α - q₁)⋅cos(β)                  ⎦\n",
      "\n",
      " R36 : \n",
      "Matrix([\n",
      "[1.0*sin(beta)*sin(q2 + q3)*cos(gamma)*cos(alpha - q1) + 1.0*sin(gamma)*sin(alpha - q1)*sin(q2 + q3) + 1.0*cos(beta)*cos(gamma)*cos(q2 + q3), -1.0*sin(beta)*sin(gamma)*sin(q2 + q3)*cos(alpha - q1) - 1.0*sin(gamma)*cos(beta)*cos(q2 + q3) + 1.0*sin(alpha - q1)*sin(q2 + q3)*cos(gamma), -sin(beta)*cos(q2 + q3) + sin(q2 + q3)*cos(beta)*cos(alpha - q1)],\n",
      "[1.0*sin(beta)*cos(gamma)*cos(alpha - q1)*cos(q2 + q3) + 1.0*sin(gamma)*sin(alpha - q1)*cos(q2 + q3) - 1.0*sin(q2 + q3)*cos(beta)*cos(gamma), -1.0*sin(beta)*sin(gamma)*cos(alpha - q1)*cos(q2 + q3) + 1.0*sin(gamma)*sin(q2 + q3)*cos(beta) + 1.0*sin(alpha - q1)*cos(gamma)*cos(q2 + q3),  sin(beta)*sin(q2 + q3) + cos(beta)*cos(alpha - q1)*cos(q2 + q3)],\n",
      "[                                                                  1.0*sin(beta)*sin(alpha - q1)*cos(gamma) - 1.0*sin(gamma)*cos(alpha - q1),                                                                   -1.0*sin(beta)*sin(gamma)*sin(alpha - q1) - 1.0*cos(gamma)*cos(alpha - q1),                                        sin(alpha - q1)*cos(beta)]])\n"
     ]
    }
   ],
   "source": [
    "R03 = Matrix([\n",
    "    [sin(q2 + q3)*cos(q1), cos(q1)*cos(q2 + q3), -sin(q1)],\n",
    "    [sin(q1)*sin(q2 + q3), sin(q1)*cos(q2 + q3),  cos(q1)],\n",
    "    [        cos(q2 + q3),        -sin(q2 + q3),        0]])\n",
    "R03T = R03.T\n",
    "#pprint(T0_3.T)\n",
    "R03T_eval = R03T.evalf()\n",
    "R36_eval=simplify(R03T_eval*R0g_eval)\n",
    "pprint(R36_eval)\n",
    "print(\"\\n R36 : \")\n",
    "print(R36_eval)"
   ]
  },
  {
   "cell_type": "code",
   "execution_count": 70,
   "metadata": {},
   "outputs": [
    {
     "name": "stdout",
     "output_type": "stream",
     "text": [
      "⎡1.0⋅sin(β)⋅sin(quaternion₂ + quaternion₃)⋅cos(γ)⋅cos(α - quaternion₁) + 1.0⋅s\n",
      "⎢                                                                             \n",
      "⎢1.0⋅sin(β)⋅cos(γ)⋅cos(α - quaternion₁)⋅cos(quaternion₂ + quaternion₃) + 1.0⋅s\n",
      "⎢                                                                             \n",
      "⎣                                                        1.0⋅sin(β)⋅sin(α - qu\n",
      "\n",
      "in(γ)⋅sin(α - quaternion₁)⋅sin(quaternion₂ + quaternion₃) + 1.0⋅cos(β)⋅cos(γ)⋅\n",
      "                                                                              \n",
      "in(γ)⋅sin(α - quaternion₁)⋅cos(quaternion₂ + quaternion₃) - 1.0⋅sin(quaternion\n",
      "                                                                              \n",
      "aternion₁)⋅cos(γ) - 1.0⋅sin(γ)⋅cos(α - quaternion₁)                           \n",
      "\n",
      "cos(quaternion₂ + quaternion₃)  -1.0⋅sin(β)⋅sin(γ)⋅sin(quaternion₂ + quaternio\n",
      "                                                                              \n",
      "₂ + quaternion₃)⋅cos(β)⋅cos(γ)  -1.0⋅sin(β)⋅sin(γ)⋅cos(α - quaternion₁)⋅cos(qu\n",
      "                                                                              \n",
      "                                                                              \n",
      "\n",
      "n₃)⋅cos(α - quaternion₁) - 1.0⋅sin(γ)⋅cos(β)⋅cos(quaternion₂ + quaternion₃) + \n",
      "                                                                              \n",
      "aternion₂ + quaternion₃) + 1.0⋅sin(γ)⋅sin(quaternion₂ + quaternion₃)⋅cos(β) + \n",
      "                                                                              \n",
      "          -1.0⋅sin(β)⋅sin(γ)⋅sin(α - quaternion₁) - 1.0⋅cos(γ)⋅cos(α - quatern\n",
      "\n",
      "1.0⋅sin(α - quaternion₁)⋅sin(quaternion₂ + quaternion₃)⋅cos(γ)  -sin(β)⋅cos(qu\n",
      "                                                                              \n",
      "1.0⋅sin(α - quaternion₁)⋅cos(γ)⋅cos(quaternion₂ + quaternion₃)  sin(β)⋅sin(qua\n",
      "                                                                              \n",
      "ion₁)                                                                         \n",
      "\n",
      "aternion₂ + quaternion₃) + sin(quaternion₂ + quaternion₃)⋅cos(β)⋅cos(α - quate\n",
      "                                                                              \n",
      "ternion₂ + quaternion₃) + cos(β)⋅cos(α - quaternion₁)⋅cos(quaternion₂ + quater\n",
      "                                                                              \n",
      "                      sin(α - quaternion₁)⋅cos(β)                             \n",
      "\n",
      "rnion₁)⎤\n",
      "       ⎥\n",
      "nion₃) ⎥\n",
      "       ⎥\n",
      "       ⎦\n",
      "\n",
      " R36 : \n",
      "Matrix([\n",
      "[1.0*sin(beta)*sin(quaternion2 + quaternion3)*cos(gamma)*cos(alpha - quaternion1) + 1.0*sin(gamma)*sin(alpha - quaternion1)*sin(quaternion2 + quaternion3) + 1.0*cos(beta)*cos(gamma)*cos(quaternion2 + quaternion3), -1.0*sin(beta)*sin(gamma)*sin(quaternion2 + quaternion3)*cos(alpha - quaternion1) - 1.0*sin(gamma)*cos(beta)*cos(quaternion2 + quaternion3) + 1.0*sin(alpha - quaternion1)*sin(quaternion2 + quaternion3)*cos(gamma), -sin(beta)*cos(quaternion2 + quaternion3) + sin(quaternion2 + quaternion3)*cos(beta)*cos(alpha - quaternion1)],\n",
      "[1.0*sin(beta)*cos(gamma)*cos(alpha - quaternion1)*cos(quaternion2 + quaternion3) + 1.0*sin(gamma)*sin(alpha - quaternion1)*cos(quaternion2 + quaternion3) - 1.0*sin(quaternion2 + quaternion3)*cos(beta)*cos(gamma), -1.0*sin(beta)*sin(gamma)*cos(alpha - quaternion1)*cos(quaternion2 + quaternion3) + 1.0*sin(gamma)*sin(quaternion2 + quaternion3)*cos(beta) + 1.0*sin(alpha - quaternion1)*cos(gamma)*cos(quaternion2 + quaternion3),  sin(beta)*sin(quaternion2 + quaternion3) + cos(beta)*cos(alpha - quaternion1)*cos(quaternion2 + quaternion3)],\n",
      "[                                                                                                                        1.0*sin(beta)*sin(alpha - quaternion1)*cos(gamma) - 1.0*sin(gamma)*cos(alpha - quaternion1),                                                                                                                         -1.0*sin(beta)*sin(gamma)*sin(alpha - quaternion1) - 1.0*cos(gamma)*cos(alpha - quaternion1),                                                                            sin(alpha - quaternion1)*cos(beta)]])\n",
      "False\n"
     ]
    }
   ],
   "source": [
    "R03T_eval = (T0_3.T[0:3,0:3]).evalf()\n",
    "R36_eval1=simplify(R03T_eval*R0g_eval)\n",
    "pprint(R36_eval1)\n",
    "print(\"\\n R36 : \")\n",
    "print(R36_eval1)\n",
    "\n",
    "print(R36_eval1==R36_eval)"
   ]
  },
  {
   "cell_type": "code",
   "execution_count": 71,
   "metadata": {},
   "outputs": [
    {
     "name": "stdout",
     "output_type": "stream",
     "text": [
      "⎡0  0   1⎤\n",
      "⎢        ⎥\n",
      "⎢0  -1  0⎥\n",
      "⎢        ⎥\n",
      "⎣1  0   0⎦\n",
      "⎡ 0    0    1⎤\n",
      "⎢            ⎥\n",
      "⎢ 0   -1.0  0⎥\n",
      "⎢            ⎥\n",
      "⎣1.0   0    0⎦\n",
      "True\n"
     ]
    }
   ],
   "source": [
    "Rot_x = Matrix([[1,         0,          0], \n",
    "                [0, cos(gamma), -sin(gamma)],\n",
    "                [0, sin(gamma),  cos(gamma)]])\n",
    "Rot_y = Matrix([[ cos(beta), 0, sin(beta)],\n",
    "                [          0, 1,          0],\n",
    "                [-sin(beta), 0, cos(beta)]])\n",
    "\n",
    "Rot_z = Matrix([[cos(alpha), -sin(alpha), 0], \n",
    "                [sin(alpha),  cos(alpha), 0],\n",
    "                [     0,       0,     1]])\n",
    "R_y_DH_URDF = Rot_y.subs(beta, -pi/2)\n",
    "R_z_DH_URDF = Rot_z.subs(alpha, pi)\n",
    "R_correction_convention = R_z_DH_URDF * R_y_DH_URDF\n",
    "pprint(R_correction_convention.T)\n",
    "pprint(RguT_eval)\n",
    "\n",
    "print(R_correction_convention.T == RguT_eval)"
   ]
  },
  {
   "cell_type": "code",
   "execution_count": 72,
   "metadata": {},
   "outputs": [
    {
     "name": "stdout",
     "output_type": "stream",
     "text": [
      "⎡cos(α)⋅cos(β)  -sin(α)⋅cos(γ) + sin(β)⋅sin(γ)⋅cos(α)  sin(α)⋅sin(γ) + sin(β)⋅\n",
      "⎢                                                                             \n",
      "⎢sin(α)⋅cos(β)  sin(α)⋅sin(β)⋅sin(γ) + cos(α)⋅cos(γ)   sin(α)⋅sin(β)⋅cos(γ) - \n",
      "⎢                                                                             \n",
      "⎣   -sin(β)                 sin(γ)⋅cos(β)                         cos(β)⋅cos(γ\n",
      "\n",
      "cos(α)⋅cos(γ)⎤\n",
      "             ⎥\n",
      "sin(γ)⋅cos(α)⎥\n",
      "             ⎥\n",
      ")            ⎦\n",
      "⎡cos(α)⋅cos(β)  -sin(α)⋅cos(γ) + sin(β)⋅sin(γ)⋅cos(α)  sin(α)⋅sin(γ) + sin(β)⋅\n",
      "⎢                                                                             \n",
      "⎢sin(α)⋅cos(β)  sin(α)⋅sin(β)⋅sin(γ) + cos(α)⋅cos(γ)   sin(α)⋅sin(β)⋅cos(γ) - \n",
      "⎢                                                                             \n",
      "⎣   -sin(β)                 sin(γ)⋅cos(β)                         cos(β)⋅cos(γ\n",
      "\n",
      "cos(α)⋅cos(γ)⎤\n",
      "             ⎥\n",
      "sin(γ)⋅cos(α)⎥\n",
      "             ⎥\n",
      ")            ⎦\n",
      "True\n"
     ]
    }
   ],
   "source": [
    "R_xyz = Rot_z * Rot_y * Rot_x\n",
    "pprint(simplify(R0u))\n",
    "pprint(R_xyz)\n",
    "print(R0u==R_xyz)"
   ]
  },
  {
   "cell_type": "code",
   "execution_count": null,
   "metadata": {
    "collapsed": true
   },
   "outputs": [],
   "source": []
  }
 ],
 "metadata": {
  "kernelspec": {
   "display_name": "Python 3",
   "language": "python",
   "name": "python3"
  },
  "language_info": {
   "codemirror_mode": {
    "name": "ipython",
    "version": 3
   },
   "file_extension": ".py",
   "mimetype": "text/x-python",
   "name": "python",
   "nbconvert_exporter": "python",
   "pygments_lexer": "ipython3",
   "version": "3.5.3"
  },
  "widgets": {
   "state": {},
   "version": "1.1.2"
  }
 },
 "nbformat": 4,
 "nbformat_minor": 2
}
